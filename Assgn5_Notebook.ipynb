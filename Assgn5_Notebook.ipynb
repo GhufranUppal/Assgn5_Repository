{
 "cells": [
  {
   "cell_type": "code",
   "execution_count": 1,
   "id": "bfdf03bc-afb0-443a-b237-4fc0fdbaea9c",
   "metadata": {},
   "outputs": [],
   "source": [
    "def addNumber (x,y):\n",
    "    print (x+y)"
   ]
  },
  {
   "cell_type": "code",
   "execution_count": 2,
   "id": "f1bb8cbd-1f28-4018-9d00-80117a2a1fab",
   "metadata": {},
   "outputs": [
    {
     "name": "stdout",
     "output_type": "stream",
     "text": [
      "5\n"
     ]
    }
   ],
   "source": [
    "addNumber(2,3)"
   ]
  },
  {
   "cell_type": "code",
   "execution_count": 4,
   "id": "e1e6f1e9-9766-4041-8319-fd7de309c624",
   "metadata": {},
   "outputs": [
    {
     "name": "stdout",
     "output_type": "stream",
     "text": [
      "13\n"
     ]
    }
   ],
   "source": [
    "addNumber(6,7)"
   ]
  },
  {
   "cell_type": "code",
   "execution_count": 5,
   "id": "ef2bb217-c6a9-46ec-80bc-0c6323b9d698",
   "metadata": {},
   "outputs": [],
   "source": [
    "def multiplyNumber (x,y):\n",
    "    print(x*y)"
   ]
  },
  {
   "cell_type": "code",
   "execution_count": 6,
   "id": "09b01345-03a6-4776-8815-af36d8689f3e",
   "metadata": {},
   "outputs": [
    {
     "name": "stdout",
     "output_type": "stream",
     "text": [
      "6\n"
     ]
    }
   ],
   "source": [
    "multiplyNumber(2,3)"
   ]
  }
 ],
 "metadata": {
  "kernelspec": {
   "display_name": "Python 3 (ipykernel)",
   "language": "python",
   "name": "python3"
  },
  "language_info": {
   "codemirror_mode": {
    "name": "ipython",
    "version": 3
   },
   "file_extension": ".py",
   "mimetype": "text/x-python",
   "name": "python",
   "nbconvert_exporter": "python",
   "pygments_lexer": "ipython3",
   "version": "3.9.12"
  }
 },
 "nbformat": 4,
 "nbformat_minor": 5
}
